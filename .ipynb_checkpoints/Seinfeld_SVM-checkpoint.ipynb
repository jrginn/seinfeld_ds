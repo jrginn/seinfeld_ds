{
 "cells": [
  {
   "cell_type": "code",
   "execution_count": 1,
   "id": "ed56568c",
   "metadata": {},
   "outputs": [],
   "source": [
    "import time\n",
    "import pandas as pd\n",
    "import numpy as np\n",
    "from nltk.corpus import stopwords\n",
    "from sklearn.feature_extraction.text import CountVectorizer, TfidfVectorizer\n",
    "from sklearn.model_selection import train_test_split\n",
    "from sklearn import svm\n",
    "from sklearn.metrics import classification_report, confusion_matrix, accuracy_score"
   ]
  },
  {
   "cell_type": "code",
   "execution_count": 2,
   "id": "533aea73",
   "metadata": {},
   "outputs": [],
   "source": [
    "# flag to determine whether to use TF or TF-IDF\n",
    "idf = True"
   ]
  },
  {
   "cell_type": "code",
   "execution_count": 3,
   "id": "f039072d",
   "metadata": {},
   "outputs": [],
   "source": [
    "# loads data (all of Jerry, George, Elaine, and Kramer's lines)\n",
    "df = pd.read_csv('jgek_lines.csv', index_col=0)"
   ]
  },
  {
   "cell_type": "code",
   "execution_count": 4,
   "id": "2844910a",
   "metadata": {},
   "outputs": [],
   "source": [
    "# intitalizes nltk stopword list\n",
    "stop = stopwords.words('english')"
   ]
  },
  {
   "cell_type": "code",
   "execution_count": 5,
   "id": "242de181",
   "metadata": {},
   "outputs": [],
   "source": [
    "# initializes CountVectorizer or TfidfVectorizer\n",
    "if idf:\n",
    "    vectorizer = TfidfVectorizer(stop_words=stop)\n",
    "else:\n",
    "    vectorizer = CountVectorizer(stop_words=stop)"
   ]
  },
  {
   "cell_type": "code",
   "execution_count": 6,
   "id": "23385d00",
   "metadata": {},
   "outputs": [],
   "source": [
    "# fits vectorizer to all data for use with classification\n",
    "tf_vec = vectorizer.fit_transform(df['line'])\n",
    "# takes only arrays from tf_vec to make classification simpler\n",
    "tf = tf_vec.toarray()"
   ]
  },
  {
   "cell_type": "code",
   "execution_count": 7,
   "id": "b95d4137",
   "metadata": {},
   "outputs": [],
   "source": [
    "# creates list of which character said which line in order\n",
    "target = list(df['character'])"
   ]
  },
  {
   "cell_type": "code",
   "execution_count": 8,
   "id": "b7782750",
   "metadata": {},
   "outputs": [],
   "source": [
    "# splits term frequency lists and character labels into training and test data\n",
    "tf_train, tf_test, target_train, target_test = train_test_split(tf, target, test_size=0.2, random_state=0)"
   ]
  },
  {
   "cell_type": "code",
   "execution_count": 9,
   "id": "848fb331",
   "metadata": {},
   "outputs": [
    {
     "name": "stdout",
     "output_type": "stream",
     "text": [
      "24477.415349006653\n"
     ]
    }
   ],
   "source": [
    "start_time = time.time()\n",
    "sv_classifier = svm.SVC()\n",
    "sv_classifier.fit(tf_train, target_train) \n",
    "end_time = time.time()\n",
    "print(end_time - start_time)"
   ]
  },
  {
   "cell_type": "code",
   "execution_count": 10,
   "id": "acc48555",
   "metadata": {},
   "outputs": [],
   "source": [
    "target_pred = sv_classifier.predict(tf_test)"
   ]
  },
  {
   "cell_type": "code",
   "execution_count": 11,
   "id": "921fec5f",
   "metadata": {},
   "outputs": [
    {
     "name": "stdout",
     "output_type": "stream",
     "text": [
      "[[ 177  120 1167   69]\n",
      " [  70  342 1306   89]\n",
      " [ 117  230 2343  108]\n",
      " [  59  115  921  226]]\n"
     ]
    }
   ],
   "source": [
    "print(confusion_matrix(target_test,target_pred))"
   ]
  },
  {
   "cell_type": "code",
   "execution_count": 12,
   "id": "47c55764",
   "metadata": {},
   "outputs": [
    {
     "name": "stdout",
     "output_type": "stream",
     "text": [
      "              precision    recall  f1-score   support\n",
      "\n",
      "      ELAINE       0.42      0.12      0.18      1533\n",
      "      GEORGE       0.42      0.19      0.26      1807\n",
      "       JERRY       0.41      0.84      0.55      2798\n",
      "      KRAMER       0.46      0.17      0.25      1321\n",
      "\n",
      "    accuracy                           0.41      7459\n",
      "   macro avg       0.43      0.33      0.31      7459\n",
      "weighted avg       0.42      0.41      0.35      7459\n",
      "\n"
     ]
    }
   ],
   "source": [
    "print(classification_report(target_test,target_pred))"
   ]
  },
  {
   "cell_type": "code",
   "execution_count": 13,
   "id": "4fca0ee6",
   "metadata": {},
   "outputs": [
    {
     "name": "stdout",
     "output_type": "stream",
     "text": [
      "0.41399651427805334\n"
     ]
    }
   ],
   "source": [
    "print(accuracy_score(target_test, target_pred))"
   ]
  },
  {
   "cell_type": "code",
   "execution_count": null,
   "id": "a9c272e1",
   "metadata": {},
   "outputs": [],
   "source": []
  }
 ],
 "metadata": {
  "kernelspec": {
   "display_name": "Python 3 (ipykernel)",
   "language": "python",
   "name": "python3"
  },
  "language_info": {
   "codemirror_mode": {
    "name": "ipython",
    "version": 3
   },
   "file_extension": ".py",
   "mimetype": "text/x-python",
   "name": "python",
   "nbconvert_exporter": "python",
   "pygments_lexer": "ipython3",
   "version": "3.8.13"
  }
 },
 "nbformat": 4,
 "nbformat_minor": 5
}
